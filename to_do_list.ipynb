{
 "cells": [
  {
   "cell_type": "code",
   "execution_count": 9,
   "id": "0747e3a9-39e4-4c2e-963d-cd9adaaa575f",
   "metadata": {},
   "outputs": [
    {
     "name": "stdout",
     "output_type": "stream",
     "text": [
      ".......****Please attend the meeting\n",
      "Remaining to_do_list : \n",
      "-Clean the room [DONE | Priority : medium]\n",
      "-Take a shower [PENDING | Priority : high]\n",
      "-Worship God [PENDING | Priority : high]\n",
      "-Revise Previous Day's studies [PENDING | Priority : high]\n",
      "-Take a break [PENDING | Priority : medium]\n",
      "-Do all the classwork [PENDING | Priority : high]\n",
      "-Class lecture revision [PENDING | Priority : high]\n",
      "-Dinner [PENDING | Priority : low]\n",
      "-Sleep [PENDING | Priority : high]\n",
      "-Laundry [PENDING | Priority : medium]\n",
      "-Attend Technology Club's meeting [PENDING | Priority : high]\n"
     ]
    }
   ],
   "source": [
    "to_do_list={\n",
    "    \"Clean the room\" : {\"status\":\"Pending\",\"priority\":\"medium\"},\n",
    "    \"Take a shower\" : {\"status\":\"Pending\",\"priority\":\"high\"},\n",
    "    \"Worship God\" : {\"status\":\"Pending\",\"priority\":\"high\"},\n",
    "    \"Revise Previous Day's studies\": {\"status\":\"Pending\",\"priority\":\"high\"},\n",
    "    \"Attend college\" : {\"status\":\"Pending\",\"priority\":\"high\"},\n",
    "    \"Take a break\" : {\"status\":\"Pending\",\"priority\":\"medium\"},\n",
    "    \"Do all the classwork\" : {\"status\":\"Pending\",\"priority\":\"high\"},\n",
    "    \"Class lecture revision\" : {\"status\":\"Pending\",\"priority\":\"high\"},\n",
    "    \"Dinner\" : {\"status\":\"Pending\",\"priority\":\"low\"},\n",
    "    \"Sleep\" : {\"status\":\"Pending\",\"priority\":\"high\"}\n",
    "    }\n",
    "\n",
    "##Adding to task\n",
    "to_do_list[\"Laundry\"] = {\"status\":\"Pending\",\"priority\":\"medium\"}\n",
    "to_do_list[\"Attend Technology Club's meeting\"] = {\"status\":\"Pending\",\"priority\":\"high\"}\n",
    "\n",
    "##REMOVING A COMPLETED TASK\n",
    "to_do_list.pop(\"Attend college\")\n",
    "\n",
    "##checking if a task is in the list\n",
    "if \"Attend Technology Club's meeting\" in to_do_list:\n",
    "    print(\".......****Please attend the meeting\")\n",
    "\n",
    "##Marking a task as done\n",
    "to_do_list[\"Clean the room\"][\"status\"] = \"done\"\n",
    "\n",
    "##Display\n",
    "print(\"Remaining to_do_list : \")\n",
    "for pending_task,details in to_do_list.items():\n",
    "    print(f\"-{pending_task} [{details['status'].upper()} | Priority : {details['priority']}]\")\n",
    "    "
   ]
  },
  {
   "cell_type": "code",
   "execution_count": null,
   "id": "5abfdc21-d113-4828-8f12-8a23938c8a7f",
   "metadata": {},
   "outputs": [],
   "source": []
  }
 ],
 "metadata": {
  "kernelspec": {
   "display_name": "Python 3 (ipykernel)",
   "language": "python",
   "name": "python3"
  },
  "language_info": {
   "codemirror_mode": {
    "name": "ipython",
    "version": 3
   },
   "file_extension": ".py",
   "mimetype": "text/x-python",
   "name": "python",
   "nbconvert_exporter": "python",
   "pygments_lexer": "ipython3",
   "version": "3.12.7"
  }
 },
 "nbformat": 4,
 "nbformat_minor": 5
}
